{
 "cells": [
  {
   "cell_type": "markdown",
   "metadata": {},
   "source": []
  },
  {
   "cell_type": "code",
   "execution_count": null,
   "metadata": {},
   "outputs": [],
   "source": [
    "# 作業一\n",
    "0. 選擇的資料\n",
    "https://www.kaggle.com/vjchoudhary7/customer-segmentation-tutorial-in-python#Mall_Customers.csv\n",
    "1. 你選的這組資料為何重要\n",
    "這是一個購物中心的會員資料，可以幫助業主暸解顧客樣貌。\n",
    "2. 資料從何而來 (tips: 譬如提供者是誰、以什麼方式蒐集)\n",
    "從Udemy's Machine Learning A-Z course而來，不清楚原始提供者。\n",
    "3. 蒐集而來的資料型態為何\n",
    "CSV格式. 去識別化的數值資料.\n",
    "4. 這組資料想解決的問題如何評估\n",
    "可以依照年齡,年收入下去分組, 即可得到顧客的分群\n",
    "\n",
    "# 作業2：想像你經營一個自由載客車隊，你希望能透過數據分析以提升業績，請你思考並描述你如何規劃整體的分析/解決方案：\n",
    "1. 核心問題為何 (tips：如何定義 「提升業績 & 你的假設」)\n",
    "提升業績：增加使用者叫車意願\n",
    "假設：在不同時間點與地點推出不同叫車優惠，增加叫車的誘因\n",
    "2. 資料從何而來 (tips：哪些資料可能會對你想問的問題產生影響 & 資料如何蒐集)\n",
    "資料庫裡過去的叫車紀錄，包含時間，地點與消費金額\n",
    "3. 蒐集而來的資料型態為何\n",
    "text, datetime, number.\n",
    "4. 你要回答的問題，其如何評估 (tips：你的假設如何驗證)\n",
    "A: 先分組時間區段與地點，再設定發送優惠的條件\n",
    "B: 隨機發送優惠\n",
    "實際執行後對照A/B組之間的優惠使用量\n"
   ]
  },
  {
   "cell_type": "code",
   "execution_count": 7,
   "metadata": {},
   "outputs": [
    {
     "name": "stdout",
     "output_type": "stream",
     "text": [
      "The Mean Squared error is 193.07346820525976\n"
     ]
    }
   ],
   "source": [
    "import numpy as np\n",
    "import matplotlib.pyplot as plt\n",
    "\n",
    "w = 3\n",
    "b = 0.5\n",
    "\n",
    "x_lin = np.linspace(0, 100, 101)\n",
    "\n",
    "y = (x_lin + np.random.randn(101) * 5) * w + b\n",
    "\n",
    "\n",
    "y_hat = x_lin * w + b\n",
    "\n",
    "\n",
    "\n",
    "def mean_squared_error(y, yp):\n",
    "    \n",
    "    mse = sum((y - yp)**2) / len(y)\n",
    "    return mse\n",
    "\n",
    "MSE = mean_squared_error(y, y_hat)\n",
    "print(f\"The Mean Squared error is {MSE}\")"
   ]
  },
  {
   "cell_type": "code",
   "execution_count": null,
   "metadata": {},
   "outputs": [],
   "source": []
  }
 ],
 "metadata": {
  "kernelspec": {
   "display_name": "Python 3",
   "language": "python",
   "name": "python3"
  },
  "language_info": {
   "codemirror_mode": {
    "name": "ipython",
    "version": 3
   },
   "file_extension": ".py",
   "mimetype": "text/x-python",
   "name": "python",
   "nbconvert_exporter": "python",
   "pygments_lexer": "ipython3",
   "version": "3.7.3"
  }
 },
 "nbformat": 4,
 "nbformat_minor": 2
}
